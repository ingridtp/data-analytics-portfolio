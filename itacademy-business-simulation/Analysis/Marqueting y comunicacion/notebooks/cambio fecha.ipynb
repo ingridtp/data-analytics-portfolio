{
 "cells": [
  {
   "cell_type": "code",
   "execution_count": null,
   "id": "35b2f475",
   "metadata": {},
   "outputs": [],
   "source": [
    "import pandas as pd\n",
    "df =  pd.read_csv(r\"C:\\Users\\Carlo\\Desktop\\simulador_empresarial\\ProjecteData\\Equip_16\\Data\\banca_06.10_dataset.csv\")"
   ]
  },
  {
   "cell_type": "code",
   "execution_count": null,
   "id": "d0e5f8a4",
   "metadata": {},
   "outputs": [],
   "source": [
    "#verificación nulos\n",
    "df.isnull().any().any()"
   ]
  },
  {
   "cell_type": "code",
   "execution_count": null,
   "id": "7a0687d1",
   "metadata": {},
   "outputs": [],
   "source": [
    "# suma de nulos por columna\n",
    "df.isnull().sum()"
   ]
  },
  {
   "cell_type": "code",
   "execution_count": null,
   "id": "4ca80d59",
   "metadata": {},
   "outputs": [],
   "source": [
    "# Para ver duplicados\n",
    "\n",
    "df.duplicated()\n",
    "# df = df.drop_duplicates(subset=['Product', 'Location']) (para eliminar duplicados concretos en función de una columna)"
   ]
  },
  {
   "cell_type": "code",
   "execution_count": null,
   "id": "973c7fb6",
   "metadata": {},
   "outputs": [],
   "source": [
    "df = df.drop_duplicates()"
   ]
  },
  {
   "cell_type": "code",
   "execution_count": null,
   "id": "80452514",
   "metadata": {},
   "outputs": [],
   "source": [
    "filas_con_nulos = df[df.isnull().any(axis=1)]\n",
    "filas_con_nulos"
   ]
  },
  {
   "cell_type": "code",
   "execution_count": null,
   "id": "f63dcb84",
   "metadata": {},
   "outputs": [],
   "source": [
    "def clase_edad(x):\n",
    "    if x < 18:\n",
    "        return \"unknown\"\n",
    "    elif x >= 18 and x <=24: \n",
    "        return '18-24'\n",
    "    elif  x >= 25 and x <= 34:\n",
    "        return '25-34'\n",
    "    elif  x >= 35 and x <= 44:\n",
    "        return '35-44'\n",
    "    elif  x >= 45 and x <= 54:\n",
    "        return '45-54'\n",
    "    elif  x >= 55 and x <= 64:\n",
    "        return '55-64'\n",
    "    else:\n",
    "        return '65+' #Como no hay edades inferiores a 18 no va dar problemae\n",
    "\n",
    "df['Clase de edad'] = df['age'].apply(clase_edad)"
   ]
  },
  {
   "cell_type": "code",
   "execution_count": null,
   "id": "f51b787a",
   "metadata": {},
   "outputs": [],
   "source": [
    "def perfil(x):\n",
    "    if x == \"unknown\":\n",
    "        return \"unknown\"\n",
    "    elif x == '18-24': \n",
    "        return \"Gen Z & Boomers\"\n",
    "    elif  x == '25-34':\n",
    "        return 'Millenials'\n",
    "    elif  x == '35-44':\n",
    "        return 'Adultxs'\n",
    "    elif  x == '45-54':\n",
    "        return 'Divorciadxs'\n",
    "    elif  x == '55-64':\n",
    "        return \"Gen Z & Boomers\"\n",
    "    elif x == '65+':\n",
    "        return \"Gen Z & Boomers\" #Como no hay edades inferiores a 18 no va dar problemae\n",
    "\n",
    "df[\"Perfil\"] = df['Clase de edad'].apply(perfil)\n",
    "df # Para visualizar la tabla generada"
   ]
  },
  {
   "cell_type": "code",
   "execution_count": null,
   "id": "2460e388",
   "metadata": {},
   "outputs": [],
   "source": [
    "df[\"date\"] = pd.to_datetime(\n",
    "    dict(year=df[\"year\"], month=df[\"month #\"], day=df[\"day\"]),\n",
    "    errors=\"coerce\"\n",
    ")"
   ]
  },
  {
   "cell_type": "code",
   "execution_count": null,
   "id": "c53a7115",
   "metadata": {},
   "outputs": [],
   "source": [
    "errores = df[df[\"date\"].isna()]\n",
    "print(errores)"
   ]
  },
  {
   "cell_type": "code",
   "execution_count": 13,
   "id": "a0e03379",
   "metadata": {},
   "outputs": [],
   "source": [
    "import calendar\n",
    "\n",
    "def validar_fecha(y, m, d):\n",
    "    try:\n",
    "        return pd.Timestamp(y, m, d)\n",
    "    except ValueError:\n",
    "        return pd.NaT\n",
    "\n",
    "df[\"date\"] = [\n",
    "    validar_fecha(y, m, d) for y, m, d in zip(df[\"year\"], df[\"month #\"], df[\"day\"])\n",
    "]"
   ]
  },
  {
   "cell_type": "code",
   "execution_count": 14,
   "id": "d85350c3",
   "metadata": {},
   "outputs": [],
   "source": [
    "df = df.dropna(subset=[\"date\"])"
   ]
  },
  {
   "cell_type": "code",
   "execution_count": 18,
   "id": "f80d2738",
   "metadata": {},
   "outputs": [],
   "source": [
    "import calendar\n",
    "\n",
    "# Asegurarte de que df es una copia independiente\n",
    "df = df.copy()\n",
    "\n",
    "def es_fecha_valida(y, m, d):\n",
    "    try:\n",
    "        return 1 <= d <= calendar.monthrange(y, m)[1]\n",
    "    except Exception:\n",
    "        return False\n",
    "\n",
    "df.loc[:, \"es_valida\"] = [\n",
    "    es_fecha_valida(y, m, d) for y, m, d in zip(df[\"year\"], df[\"month #\"], df[\"day\"])\n",
    "]"
   ]
  },
  {
   "cell_type": "code",
   "execution_count": 20,
   "id": "23fcae36",
   "metadata": {},
   "outputs": [],
   "source": [
    "df[\"date\"] = pd.to_datetime(\n",
    "    dict(year=df[\"year\"], month=df[\"month #\"], day=df[\"day\"]),\n",
    "    errors=\"coerce\"   # convierte inválidas en NaT\n",
    ")"
   ]
  },
  {
   "cell_type": "code",
   "execution_count": 21,
   "id": "179a3d61",
   "metadata": {},
   "outputs": [],
   "source": [
    "df[\"weekday_num\"] = df[\"date\"].dt.weekday\n",
    "df = df[df[\"weekday_num\"] <= 4]\n",
    "df[\"day_week\"] = df[\"date\"].dt.day_name(locale=\"es_ES\")"
   ]
  },
  {
   "cell_type": "code",
   "execution_count": 22,
   "id": "16909da8",
   "metadata": {},
   "outputs": [],
   "source": [
    "import pandas as pd\n",
    "\n",
    "meses_numerico = {\n",
    "    \"jan\": 1, \"feb\": 2, \"mar\": 3, \"apr\": 4,\n",
    "    \"may\": 5, \"jun\": 6, \"jul\": 7, \"aug\": 8,\n",
    "    \"sep\": 9, \"oct\": 10, \"nov\": 11, \"dec\": 12\n",
    "}\n",
    "\n",
    "df[\"month #\"] = df[\"month\"].map(meses_numerico)\n",
    "\n",
    "# Detectar \"saltos\" de año: cuando el mes baja (ej. de dic -> ene)\n",
    "df[\"year_offset\"] = (df[\"month #\"].diff() < 0).cumsum()\n",
    "\n",
    "# Año base 2008 + offset\n",
    "df[\"year\"] = 2008 + df[\"year_offset\"]\n",
    "\n",
    "# Crear la fecha completa\n",
    "df[\"date\"] = pd.to_datetime(dict(year=df[\"year\"], month=df[\"month #\"], day=df[\"day\"]))\n",
    "\n",
    "# Día de la semana (solo lunes a viernes)\n",
    "df[\"weekday_num\"] = df[\"date\"].dt.weekday\n",
    "df = df[df[\"weekday_num\"] <= 4]\n",
    "df[\"day_week\"] = df[\"date\"].dt.day_name(locale=\"es_ES\")"
   ]
  },
  {
   "cell_type": "code",
   "execution_count": 23,
   "id": "302b2f32",
   "metadata": {},
   "outputs": [],
   "source": [
    "# Creamos un orden de meses empezando en mayo\n",
    "orden_meses = [5,6,7,8,9,10,11,12,1,2,3,4]\n",
    "\n",
    "# Convertimos la columna \"month #\" en categórica con ese orden\n",
    "df[\"month #\"] = pd.Categorical(df[\"month #\"], categories=orden_meses, ordered=True)\n",
    "\n",
    "# Reordenamos el DataFrame\n",
    "df = df.sort_values([\"month #\", \"day\"]).reset_index(drop=True)"
   ]
  },
  {
   "cell_type": "code",
   "execution_count": 24,
   "id": "e0fd861e",
   "metadata": {},
   "outputs": [
    {
     "data": {
      "text/plain": [
       "id               0\n",
       "age              0\n",
       "job              0\n",
       "marital          0\n",
       "education        0\n",
       "default          5\n",
       "balance          0\n",
       "housing          0\n",
       "loan             0\n",
       "contact          0\n",
       "day              0\n",
       "month            0\n",
       "duration         0\n",
       "campaign         0\n",
       "pdays            0\n",
       "previous         0\n",
       "poutcome         0\n",
       "deposit          0\n",
       "Clase de edad    0\n",
       "Perfil           0\n",
       "month #          0\n",
       "date             0\n",
       "day_week         0\n",
       "year_offset      0\n",
       "year             0\n",
       "es_valida        0\n",
       "weekday_num      0\n",
       "dtype: int64"
      ]
     },
     "execution_count": 24,
     "metadata": {},
     "output_type": "execute_result"
    }
   ],
   "source": [
    "# -------------------------\n",
    "# Función para imputar nulos\n",
    "# -------------------------\n",
    "def imputar(row):\n",
    "    # 1) age\n",
    "    if pd.isna(row[\"age\"]):\n",
    "        if row[\"job\"] == \"retired\":\n",
    "            row[\"age\"] = 65\n",
    "        elif row[\"job\"] == \"management\":\n",
    "            row[\"age\"] = 45\n",
    "        elif row[\"job\"] == \"technician\":\n",
    "            row[\"age\"] = 35\n",
    "        else:\n",
    "            row[\"age\"] = 40\n",
    "    \n",
    "    # 2) marital\n",
    "    if pd.isna(row[\"marital\"]):\n",
    "        row[\"marital\"] = \"single\" if row[\"age\"] < 32 else \"married\"\n",
    "    \n",
    "    # 3) education\n",
    "    if pd.isna(row[\"education\"]):\n",
    "        if row[\"job\"] in [\"management\", \"technician\"]:\n",
    "            row[\"education\"] = \"tertiary\"\n",
    "        elif row[\"job\"] == \"retired\":\n",
    "            row[\"education\"] = \"secondary\"\n",
    "        else:\n",
    "            row[\"education\"] = \"primary\"\n",
    "    \n",
    "    # 4) housing\n",
    "    if pd.isna(row[\"housing\"]):\n",
    "        if row[\"Clase de edad\"] == \"25-34\":\n",
    "            row[\"housing\"] = \"yes\"\n",
    "        else:\n",
    "            row[\"housing\"] = \"no\"\n",
    "    return row\n",
    "# Aplicamos la función\n",
    "df = df.apply(imputar, axis=1)\n",
    "df.isnull().sum()"
   ]
  },
  {
   "cell_type": "code",
   "execution_count": 25,
   "id": "f0bd793b",
   "metadata": {},
   "outputs": [
    {
     "data": {
      "text/html": [
       "<div>\n",
       "<style scoped>\n",
       "    .dataframe tbody tr th:only-of-type {\n",
       "        vertical-align: middle;\n",
       "    }\n",
       "\n",
       "    .dataframe tbody tr th {\n",
       "        vertical-align: top;\n",
       "    }\n",
       "\n",
       "    .dataframe thead th {\n",
       "        text-align: right;\n",
       "    }\n",
       "</style>\n",
       "<table border=\"1\" class=\"dataframe\">\n",
       "  <thead>\n",
       "    <tr style=\"text-align: right;\">\n",
       "      <th></th>\n",
       "      <th>id</th>\n",
       "      <th>age</th>\n",
       "      <th>job</th>\n",
       "      <th>marital</th>\n",
       "      <th>education</th>\n",
       "      <th>default</th>\n",
       "      <th>balance</th>\n",
       "      <th>housing</th>\n",
       "      <th>loan</th>\n",
       "      <th>contact</th>\n",
       "      <th>...</th>\n",
       "      <th>deposit</th>\n",
       "      <th>Clase de edad</th>\n",
       "      <th>Perfil</th>\n",
       "      <th>month #</th>\n",
       "      <th>date</th>\n",
       "      <th>day_week</th>\n",
       "      <th>year_offset</th>\n",
       "      <th>year</th>\n",
       "      <th>es_valida</th>\n",
       "      <th>weekday_num</th>\n",
       "    </tr>\n",
       "  </thead>\n",
       "  <tbody>\n",
       "  </tbody>\n",
       "</table>\n",
       "<p>0 rows × 27 columns</p>\n",
       "</div>"
      ],
      "text/plain": [
       "Empty DataFrame\n",
       "Columns: [id, age, job, marital, education, default, balance, housing, loan, contact, day, month, duration, campaign, pdays, previous, poutcome, deposit, Clase de edad, Perfil, month #, date, day_week, year_offset, year, es_valida, weekday_num]\n",
       "Index: []\n",
       "\n",
       "[0 rows x 27 columns]"
      ]
     },
     "execution_count": 25,
     "metadata": {},
     "output_type": "execute_result"
    }
   ],
   "source": [
    "def change_duplic_id(df):\n",
    "    # Encuentra las filas duplicadas (solo las segundas y siguientes)\n",
    "    duplicados = df[df.duplicated(subset=['id'], keep='first')].index\n",
    "\n",
    "    # Obtén el ID máximo actual\n",
    "    max_id = df['id'].max()\n",
    "\n",
    "    # Genera nuevos IDs consecutivos a partir del máximo\n",
    "    nuevos_ids = range(max_id + 1, max_id + 1 + len(duplicados))\n",
    "\n",
    "    # Asigna los nuevos IDs a las filas duplicadas\n",
    "    df.loc[duplicados, 'id'] = nuevos_ids\n",
    "\n",
    "change_duplic_id(df)\n",
    "\n",
    "# df.duplicated(subset=['id'])\n",
    "\n",
    "df[df['id'].duplicated(keep=False)].sort_values('id')\n",
    "\n",
    "# print(variable==True)\n",
    "\n",
    "\n",
    "\n",
    "\n"
   ]
  },
  {
   "cell_type": "code",
   "execution_count": null,
   "id": "6f3f35ee",
   "metadata": {},
   "outputs": [],
   "source": [
    "df"
   ]
  },
  {
   "cell_type": "code",
   "execution_count": 26,
   "id": "a3051734",
   "metadata": {},
   "outputs": [],
   "source": [
    "df.to_csv(r\"C:/Users/Carlo/Desktop/simulador_carlos/datos.csv\", index=False, encoding=\"utf-8-sig\")"
   ]
  }
 ],
 "metadata": {
  "kernelspec": {
   "display_name": "Python 3",
   "language": "python",
   "name": "python3"
  },
  "language_info": {
   "codemirror_mode": {
    "name": "ipython",
    "version": 3
   },
   "file_extension": ".py",
   "mimetype": "text/x-python",
   "name": "python",
   "nbconvert_exporter": "python",
   "pygments_lexer": "ipython3",
   "version": "3.13.2"
  }
 },
 "nbformat": 4,
 "nbformat_minor": 5
}
