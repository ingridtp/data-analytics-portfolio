{
 "cells": [
  {
   "cell_type": "code",
   "execution_count": null,
   "id": "35b2f475",
   "metadata": {},
   "outputs": [],
   "source": [
    "import pandas as pd\n",
    "df =  pd.read_csv(r\"C:/Users/Pau/Desktop/BCNActiva/BCNActiva ADD/Simulador Empresa/ProjecteData/Equip_16/Data/banca_22.09_dataset.csv\")"
   ]
  },
  {
   "cell_type": "code",
   "execution_count": null,
   "id": "2248a371",
   "metadata": {},
   "outputs": [],
   "source": [
    "import seaborn as sns\n",
    "import matplotlib.pyplot as plt"
   ]
  },
  {
   "cell_type": "code",
   "execution_count": null,
   "id": "d0e5f8a4",
   "metadata": {},
   "outputs": [],
   "source": [
    "#verificación nulos\n",
    "df.isnull().any().any()"
   ]
  },
  {
   "cell_type": "code",
   "execution_count": null,
   "id": "7a0687d1",
   "metadata": {},
   "outputs": [],
   "source": [
    "# suma de nulos por columna\n",
    "df.isnull().sum()"
   ]
  },
  {
   "cell_type": "code",
   "execution_count": null,
   "id": "4ca80d59",
   "metadata": {},
   "outputs": [],
   "source": [
    "# Para ver duplicados\n",
    "\n",
    "df.duplicated()\n",
    "# df = df.drop_duplicates(subset=['Product', 'Location']) (para eliminar duplicados concretos en función de una columna)\n",
    "df = df.drop_duplicates()"
   ]
  },
  {
   "cell_type": "code",
   "execution_count": null,
   "id": "80452514",
   "metadata": {},
   "outputs": [],
   "source": [
    "filas_con_nulos = df[df.isnull().any(axis=1)]\n",
    "filas_con_nulos"
   ]
  },
  {
   "cell_type": "code",
   "execution_count": null,
   "id": "f63dcb84",
   "metadata": {},
   "outputs": [],
   "source": [
    "def clase_edad(x):\n",
    "    if x < 18:\n",
    "        return \"unknown\"\n",
    "    elif x >= 18 and x <=24: \n",
    "        return '18-24'\n",
    "    elif  x >= 25 and x <= 34:\n",
    "        return '25-34'\n",
    "    elif  x >= 35 and x <= 44:\n",
    "        return '35-44'\n",
    "    elif  x >= 45 and x <= 54:\n",
    "        return '45-54'\n",
    "    elif  x >= 55 and x <= 64:\n",
    "        return '55-64'\n",
    "    else:\n",
    "        return '65+' #Como no hay edades inferiores a 18 no va dar problemae\n",
    "\n",
    "df['Clase de edad'] = df['age'].apply(clase_edad)"
   ]
  },
  {
   "cell_type": "code",
   "execution_count": null,
   "id": "f51b787a",
   "metadata": {},
   "outputs": [],
   "source": [
    "def perfil(x):\n",
    "    if x == \"unknown\":\n",
    "        return \"unknown\"\n",
    "    elif x == '18-24': \n",
    "        return \"Gen Z & Boomers\"\n",
    "    elif  x == '25-34':\n",
    "        return 'Millenials'\n",
    "    elif  x == '35-44':\n",
    "        return 'Adultxs'\n",
    "    elif  x == '45-54':\n",
    "        return 'Divorciadxs'\n",
    "    elif  x == '55-64':\n",
    "        return \"Gen Z & Boomers\"\n",
    "    elif x == '65+':\n",
    "        return \"Gen Z & Boomers\" #Como no hay edades inferiores a 18 no va dar problemae\n",
    "\n",
    "df[\"Perfil\"] = df['Clase de edad'].apply(perfil)\n",
    "df # Para visualizar la tabla generada"
   ]
  },
  {
   "cell_type": "code",
   "execution_count": null,
   "id": "e0fd861e",
   "metadata": {},
   "outputs": [],
   "source": [
    "# -------------------------\n",
    "# Función para imputar nulos\n",
    "# -------------------------\n",
    "def imputar(row):\n",
    "    # 1) age\n",
    "    if pd.isna(row[\"age\"]):\n",
    "        if row[\"job\"] == \"retired\":\n",
    "            row[\"age\"] = 65\n",
    "        elif row[\"job\"] == \"management\":\n",
    "            row[\"age\"] = 45\n",
    "        elif row[\"job\"] == \"technician\":\n",
    "            row[\"age\"] = 35\n",
    "        else:\n",
    "            row[\"age\"] = 40\n",
    "    \n",
    "    # 2) marital\n",
    "    if pd.isna(row[\"marital\"]):\n",
    "        row[\"marital\"] = \"single\" if row[\"age\"] < 32 else \"married\"\n",
    "    \n",
    "    # 3) education\n",
    "    if pd.isna(row[\"education\"]):\n",
    "        if row[\"job\"] in [\"management\", \"technician\"]:\n",
    "            row[\"education\"] = \"tertiary\"\n",
    "        elif row[\"job\"] == \"retired\":\n",
    "            row[\"education\"] = \"secondary\"\n",
    "        else:\n",
    "            row[\"education\"] = \"primary\"\n",
    "    \n",
    "    # 4) job\n",
    "    if pd.isna(row[\"job\"]):\n",
    "        if row[\"education\"] == \"tertiary\":\n",
    "            row[\"job\"] = \"management\"\n",
    "        elif row[\"education\"] == \"secondary\":\n",
    "            row[\"job\"] = \"technician\"\n",
    "        else:\n",
    "            row[\"job\"] = \"unknown\"\n",
    "    # 5) housing\n",
    "    if pd.isna(row[\"housing\"]):\n",
    "        if row[\"Clase de edad\"] == \"25-34\":\n",
    "            row[\"housing\"] = \"yes\"\n",
    "        else:\n",
    "            row[\"housing\"] = \"no\"\n",
    "    return row\n",
    "# Aplicamos la función\n",
    "df = df.apply(imputar, axis=1)\n",
    "df.isnull().sum()"
   ]
  },
  {
   "cell_type": "code",
   "execution_count": null,
   "id": "a7b59d91",
   "metadata": {},
   "outputs": [],
   "source": [
    "#sustitución de valores nulos\n",
    "\n",
    "df[\"marital\"] = df[\"marital\"].fillna(\"unknown\")\n",
    "df[\"education\"] = df[\"education\"].fillna(\"unknown\")"
   ]
  },
  {
   "cell_type": "code",
   "execution_count": null,
   "id": "c940aec7",
   "metadata": {},
   "outputs": [],
   "source": [
    "total_contactos = df[\"campaign\"].sum()"
   ]
  },
  {
   "cell_type": "code",
   "execution_count": null,
   "id": "61f5f98e",
   "metadata": {},
   "outputs": [],
   "source": [
    "\n",
    "total_convertidos = (df[\"deposit\"]== \"yes\").sum()\n"
   ]
  },
  {
   "cell_type": "code",
   "execution_count": null,
   "id": "a13004c7",
   "metadata": {},
   "outputs": [],
   "source": [
    "total_convertidos"
   ]
  },
  {
   "cell_type": "code",
   "execution_count": null,
   "id": "ead7b4bd",
   "metadata": {},
   "outputs": [],
   "source": [
    "tasa_exito = total_convertidos / total_contactos * 100\n",
    "tasa_exito = round(tasa_exito,2)"
   ]
  },
  {
   "cell_type": "code",
   "execution_count": null,
   "id": "a936c4d8",
   "metadata": {},
   "outputs": [],
   "source": [
    "tasa_exito"
   ]
  }
 ],
 "metadata": {
  "kernelspec": {
   "display_name": "Python 3",
   "language": "python",
   "name": "python3"
  },
  "language_info": {
   "codemirror_mode": {
    "name": "ipython",
    "version": 3
   },
   "file_extension": ".py",
   "mimetype": "text/x-python",
   "name": "python",
   "nbconvert_exporter": "python",
   "pygments_lexer": "ipython3",
   "version": "3.13.2"
  }
 },
 "nbformat": 4,
 "nbformat_minor": 5
}
