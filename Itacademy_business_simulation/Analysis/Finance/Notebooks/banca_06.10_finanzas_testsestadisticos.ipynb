{
 "cells": [
  {
   "cell_type": "code",
   "execution_count": 52,
   "metadata": {},
   "outputs": [],
   "source": [
    "import mysql.connector\n",
    "\n",
    "import pandas as pd\n",
    "import numpy as np\n",
    "from scipy.stats import chi2_contingency\n",
    "\n",
    "import matplotlib.pyplot as plt\n",
    "import seaborn as sns\n",
    "\n",
    "import statsmodels.api as sm\n",
    "import statsmodels.formula.api as smf"
   ]
  },
  {
   "cell_type": "code",
   "execution_count": 53,
   "metadata": {},
   "outputs": [
    {
     "name": "stdout",
     "output_type": "stream",
     "text": [
      "✅ CSV cargado correctamente.\n",
      "   id   age         job  marital  education default  balance housing loan  \\\n",
      "0   1  59.0      admin.  married  secondary      no     2343     yes   no   \n",
      "1   2  56.0      admin.  married  secondary      no       45      no   no   \n",
      "2   3  41.0  technician  married  secondary      no     1270     yes   no   \n",
      "3   4  55.0    services  married  secondary      no     2476     yes   no   \n",
      "4   5  54.0      admin.  married   tertiary      no      184      no   no   \n",
      "\n",
      "   contact  ...  campaign pdays  previous  poutcome  deposit  Clase de edad  \\\n",
      "0  unknown  ...         1    -1         0   unknown      yes          55-64   \n",
      "1  unknown  ...         1    -1         0   unknown      yes          55-64   \n",
      "2  unknown  ...         1    -1         0   unknown      yes          35-44   \n",
      "3  unknown  ...         1    -1         0   unknown      yes          55-64   \n",
      "4  unknown  ...         2    -1         0   unknown      yes          45-54   \n",
      "\n",
      "            Perfil month #        date day_week  \n",
      "0  Gen Z & Boomers       5  2008-05-05    Lunes  \n",
      "1  Gen Z & Boomers       5  2008-05-05    Lunes  \n",
      "2          Adultxs       5  2008-05-05    Lunes  \n",
      "3  Gen Z & Boomers       5  2008-05-05    Lunes  \n",
      "4      Divorciadxs       5  2008-05-05    Lunes  \n",
      "\n",
      "[5 rows x 23 columns]\n"
     ]
    }
   ],
   "source": [
    "try:\n",
    "    # Ruta al archivo CSV\n",
    "    ruta_csv = r\"/Users/barbarajunqueira/ProjecteData/Equip_16/Data/banca_06.10_dataset.csv\"\n",
    "\n",
    "    # Cargar el CSV en un DataFrame\n",
    "    df_bank = pd.read_csv(ruta_csv, sep=',', encoding='utf-8')  # usa sep=\",\" si el separador es coma\n",
    "\n",
    "    print(\"✅ CSV cargado correctamente.\")\n",
    "    print(df_bank.head())\n",
    "\n",
    "except Exception as e:\n",
    "    print(f\"❌ Error al trabajar con el CSV: {e}\")\n"
   ]
  },
  {
   "cell_type": "code",
   "execution_count": 54,
   "metadata": {},
   "outputs": [
    {
     "name": "stdout",
     "output_type": "stream",
     "text": [
      "📌 Mediana: 551.5\n",
      "📌 Percentil 75: 1716.0\n"
     ]
    }
   ],
   "source": [
    "import numpy as np\n",
    "\n",
    "# Calcular mediana y percentil 75\n",
    "mediana = np.median(df_bank['balance'])\n",
    "percentil_75 = np.percentile(df_bank['balance'], 75)\n",
    "\n",
    "print(\"📌 Mediana:\", mediana)\n",
    "print(\"📌 Percentil 75:\", percentil_75)\n"
   ]
  },
  {
   "cell_type": "code",
   "execution_count": 55,
   "metadata": {},
   "outputs": [],
   "source": [
    "def balance_group(balance):\n",
    "    if balance < 0:\n",
    "        return 'Negativo'\n",
    "    elif balance <= mediana:\n",
    "        return 'Bajo'\n",
    "    elif balance <= percentil_75:\n",
    "        return 'Medio'\n",
    "    else:\n",
    "        return 'Alto'\n",
    "\n",
    "df_bank['BalanceGroup'] = df_bank['balance'].apply(balance_group)\n"
   ]
  },
  {
   "cell_type": "code",
   "execution_count": 56,
   "metadata": {},
   "outputs": [],
   "source": [
    "def balance_category(group):\n",
    "    if group in ['Negativo', 'Bajo']:\n",
    "        return 'Vulnerables'\n",
    "    elif group in ['Medio', 'Alto']:\n",
    "        return 'Estables'\n",
    "    else:\n",
    "        return 'Indeterminado'\n",
    "\n",
    "df_bank['BalanceCategory'] = df_bank['BalanceGroup'].apply(balance_category)\n"
   ]
  },
  {
   "cell_type": "code",
   "execution_count": 57,
   "metadata": {},
   "outputs": [
    {
     "name": "stdout",
     "output_type": "stream",
     "text": [
      "BalanceGroup\n",
      "Bajo        11449\n",
      "Medio        6546\n",
      "Alto         6542\n",
      "Negativo     1639\n",
      "Name: count, dtype: int64\n",
      "BalanceCategory\n",
      "Estables       13088\n",
      "Vulnerables    13088\n",
      "Name: count, dtype: int64\n"
     ]
    }
   ],
   "source": [
    "print(df_bank['BalanceGroup'].value_counts())\n",
    "print(df_bank['BalanceCategory'].value_counts())\n"
   ]
  },
  {
   "cell_type": "code",
   "execution_count": 58,
   "metadata": {},
   "outputs": [
    {
     "name": "stdout",
     "output_type": "stream",
     "text": [
      "📌 Mediana (corte entre 'Bajo' y 'Medio'): 551.5\n",
      "📌 Percentil 75 (corte entre 'Medio' y 'Alto'): 1716.0\n"
     ]
    }
   ],
   "source": [
    "import numpy as np\n",
    "\n",
    "# Asegurarte de ignorar los valores nulos en el cálculo\n",
    "balance_series = df_bank['balance'].dropna()\n",
    "\n",
    "# Calcular cortes\n",
    "mediana = np.median(balance_series)\n",
    "percentil_75 = np.percentile(balance_series, 75)\n",
    "\n",
    "# Mostrar cortes\n",
    "print(f\"📌 Mediana (corte entre 'Bajo' y 'Medio'): {mediana}\")\n",
    "print(f\"📌 Percentil 75 (corte entre 'Medio' y 'Alto'): {percentil_75}\")\n"
   ]
  },
  {
   "cell_type": "code",
   "execution_count": 59,
   "metadata": {},
   "outputs": [
    {
     "name": "stdout",
     "output_type": "stream",
     "text": [
      "📌 Limites dos quartis de 'balance':\n",
      "[-6847.    123.    551.5  1716.  81204. ]\n"
     ]
    }
   ],
   "source": [
    "df_bank['balance_quartile'] = pd.qcut(df_bank['balance'], q=4, labels=['Q1', 'Q2', 'Q3', 'Q4'])\n",
    "quartis, bins = pd.qcut(df_bank['balance'], q=4, labels=['Q1', 'Q2', 'Q3', 'Q4'], retbins=True)\n",
    "\n",
    "print(\"📌 Limites dos quartis de 'balance':\")\n",
    "print(bins)"
   ]
  },
  {
   "cell_type": "code",
   "execution_count": 60,
   "metadata": {},
   "outputs": [
    {
     "name": "stdout",
     "output_type": "stream",
     "text": [
      "Q1: 123.0\n",
      "Q2: 551.5\n",
      "Q3: 1716.0\n"
     ]
    }
   ],
   "source": [
    "print(\"Q1:\", df_bank['balance'].quantile(0.25))\n",
    "print(\"Q2:\", df_bank['balance'].quantile(0.50))\n",
    "print(\"Q3:\", df_bank['balance'].quantile(0.75))"
   ]
  },
  {
   "cell_type": "code",
   "execution_count": 61,
   "metadata": {},
   "outputs": [
    {
     "name": "stdout",
     "output_type": "stream",
     "text": [
      "📊 Tabela de Contingência:\n",
      "default             no  yes\n",
      "balance_quartile           \n",
      "Q1                6215  328\n",
      "Q2                6495   39\n",
      "Q3                6517   25\n",
      "Q4                6539    3\n"
     ]
    }
   ],
   "source": [
    "tabela = pd.crosstab(df_bank['balance_quartile'], df_bank['default'])\n",
    "print(\"📊 Tabela de Contingência:\")\n",
    "print(tabela)"
   ]
  },
  {
   "cell_type": "code",
   "execution_count": 62,
   "metadata": {},
   "outputs": [
    {
     "name": "stdout",
     "output_type": "stream",
     "text": [
      "\n",
      "📈 Resultado do Teste Chi-cuadrado:\n",
      "Chi²: 726.8101\n",
      "Valor p (científico): 3.22e-157\n",
      "Graus de liberdade: 3\n",
      "Frequências esperadas:\n",
      "default                    no        yes\n",
      "balance_quartile                        \n",
      "Q1                6444.208478  98.791522\n",
      "Q2                6435.344368  98.655632\n",
      "Q3                6443.223577  98.776423\n",
      "Q4                6443.223577  98.776423\n",
      "\n",
      "✅ Há uma relação significativa entre o quartil de saldo e o default.\n"
     ]
    }
   ],
   "source": [
    "from scipy.stats import chi2_contingency\n",
    "\n",
    "chi2, p, dof, expected = chi2_contingency(tabela)\n",
    "\n",
    "print(\"\\n📈 Resultado do Teste Chi-cuadrado:\")\n",
    "print(f\"Chi²: {chi2:.4f}\")\n",
    "print(f\"Valor p (científico): {p:.2e}\")\n",
    "print(f\"Graus de liberdade: {dof}\")\n",
    "print(\"Frequências esperadas:\")\n",
    "print(pd.DataFrame(expected, index=tabela.index, columns=tabela.columns))\n",
    "\n",
    "# 4. Interpretação\n",
    "alpha = 0.05\n",
    "if p < alpha:\n",
    "    print(\"\\n✅ Há uma relação significativa entre o quartil de saldo e o default.\")\n",
    "else:\n",
    "    print(\"\\n❌ Não há evidência suficiente de relação entre o quartil de saldo e o default.\")\n"
   ]
  }
 ],
 "metadata": {
  "kernelspec": {
   "display_name": "Python 3",
   "language": "python",
   "name": "python3"
  },
  "language_info": {
   "codemirror_mode": {
    "name": "ipython",
    "version": 3
   },
   "file_extension": ".py",
   "mimetype": "text/x-python",
   "name": "python",
   "nbconvert_exporter": "python",
   "pygments_lexer": "ipython3",
   "version": "3.13.3"
  }
 },
 "nbformat": 4,
 "nbformat_minor": 2
}
